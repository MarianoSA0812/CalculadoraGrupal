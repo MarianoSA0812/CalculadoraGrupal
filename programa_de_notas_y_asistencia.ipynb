{
  "nbformat": 4,
  "nbformat_minor": 0,
  "metadata": {
    "colab": {
      "provenance": [],
      "authorship_tag": "ABX9TyMDh5eZSfhqJJbQGcTkIs4b",
      "include_colab_link": true
    },
    "kernelspec": {
      "name": "python3",
      "display_name": "Python 3"
    },
    "language_info": {
      "name": "python"
    }
  },
  "cells": [
    {
      "cell_type": "markdown",
      "metadata": {
        "id": "view-in-github",
        "colab_type": "text"
      },
      "source": [
        "<a href=\"https://colab.research.google.com/github/MarianoSA0812/CalculadoraGrupal/blob/main/programa_de_notas_y_asistencia.ipynb\" target=\"_parent\"><img src=\"https://colab.research.google.com/assets/colab-badge.svg\" alt=\"Open In Colab\"/></a>"
      ]
    },
    {
      "cell_type": "code",
      "execution_count": null,
      "metadata": {
        "colab": {
          "base_uri": "https://localhost:8080/"
        },
        "id": "SKuNUUoNSNq-",
        "outputId": "b11e6d9c-1d26-411a-c535-fd474c7aece1"
      },
      "outputs": [
        {
          "output_type": "stream",
          "name": "stdout",
          "text": [
            "Informe de notas y asistencia\n",
            "============================\n",
            "Estudiante: Juan\n",
            "Promedio: 87.5\n",
            "Asistencias: 1\n",
            "============================\n",
            "Estudiante: María\n",
            "Promedio: 91.5\n",
            "Asistencias: 2\n",
            "============================\n"
          ]
        }
      ],
      "source": [
        "class Estudiante:\n",
        "    def __init__(self, nombre):\n",
        "        self.nombre = nombre\n",
        "        self.notas = []\n",
        "        self.asistencia = []\n",
        "\n",
        "    def agregar_nota(self, nota):\n",
        "        self.notas.append(nota)\n",
        "\n",
        "    def agregar_asistencia(self, presente):\n",
        "        self.asistencia.append(presente)\n",
        "\n",
        "\n",
        "class Curso:\n",
        "    def __init__(self, nombre_curso):\n",
        "        self.nombre_curso = nombre_curso\n",
        "        self.estudiantes = []\n",
        "\n",
        "    def agregar_estudiante(self, estudiante):\n",
        "        self.estudiantes.append(estudiante)\n",
        "\n",
        "    def calcular_promedio(self, estudiante):\n",
        "        notas = estudiante.notas\n",
        "        if notas:\n",
        "            promedio = sum(notas) / len(notas)\n",
        "            return promedio\n",
        "        return 0\n",
        "\n",
        "    def generar_informe(self):\n",
        "        print(\"Informe de notas y asistencia\")\n",
        "        print(\"============================\")\n",
        "        for estudiante in self.estudiantes:\n",
        "            promedio = self.calcular_promedio(estudiante)\n",
        "            asistencias = sum(estudiante.asistencia)\n",
        "            print(f\"Estudiante: {estudiante.nombre}\")\n",
        "            print(f\"Promedio: {promedio}\")\n",
        "            print(f\"Asistencias: {asistencias}\")\n",
        "            print(\"============================\")\n",
        "\n",
        "\n",
        "def main():\n",
        "    curso = Curso(\"Programación Avanzada\")\n",
        "\n",
        "    estudiante1 = Estudiante(\"Juan\")\n",
        "    estudiante1.agregar_nota(85)\n",
        "    estudiante1.agregar_nota(90)\n",
        "    estudiante1.agregar_asistencia(True)\n",
        "    estudiante1.agregar_asistencia(False)\n",
        "    curso.agregar_estudiante(estudiante1)\n",
        "\n",
        "    estudiante2 = Estudiante(\"María\")\n",
        "    estudiante2.agregar_nota(95)\n",
        "    estudiante2.agregar_nota(88)\n",
        "    estudiante2.agregar_asistencia(True)\n",
        "    estudiante2.agregar_asistencia(True)\n",
        "    curso.agregar_estudiante(estudiante2)\n",
        "\n",
        "    curso.generar_informe()\n",
        "\n",
        "\n",
        "if __name__ == \"__main__\":\n",
        "    main()\n"
      ]
    }
  ]
}