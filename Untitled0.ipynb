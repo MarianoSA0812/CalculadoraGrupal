{
  "nbformat": 4,
  "nbformat_minor": 0,
  "metadata": {
    "colab": {
      "provenance": [],
      "authorship_tag": "ABX9TyM4tw7s9iNgSH7i1cKDzvjy",
      "include_colab_link": true
    },
    "kernelspec": {
      "name": "python3",
      "display_name": "Python 3"
    },
    "language_info": {
      "name": "python"
    }
  },
  "cells": [
    {
      "cell_type": "markdown",
      "metadata": {
        "id": "view-in-github",
        "colab_type": "text"
      },
      "source": [
        "<a href=\"https://colab.research.google.com/github/MarianoSA0812/CalculadoraGrupal/blob/Resta/Untitled0.ipynb\" target=\"_parent\"><img src=\"https://colab.research.google.com/assets/colab-badge.svg\" alt=\"Open In Colab\"/></a>"
      ]
    },
    {
      "cell_type": "code",
      "source": [
        "def resta(a,b):\n",
        "    resta=a-b\n",
        "    return resta\n",
        "\n"
      ],
      "metadata": {
        "id": "QbGuHE2mMGKB"
      },
      "execution_count": 1,
      "outputs": []
    },
    {
      "cell_type": "code",
      "source": [
        "print(\"la resta es:\",resta(80,40)) "
      ],
      "metadata": {
        "colab": {
          "base_uri": "https://localhost:8080/"
        },
        "id": "6AiX1nTnNALi",
        "outputId": "5f1e4d89-2299-4f12-d7d5-8359fe4c9250"
      },
      "execution_count": 3,
      "outputs": [
        {
          "output_type": "stream",
          "name": "stdout",
          "text": [
            "la resta es: 40\n"
          ]
        }
      ]
    }
  ]
}